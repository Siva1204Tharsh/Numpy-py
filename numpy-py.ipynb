{
 "cells": [
  {
   "cell_type": "markdown",
   "metadata": {},
   "source": [
    "<h1 style=\"color: blue; text :bold; align:center;\" >Numpy-py</h1>"
   ]
  },
  {
   "cell_type": "code",
   "execution_count": 1,
   "metadata": {},
   "outputs": [
    {
     "data": {
      "text/plain": [
       "'1.26.4'"
      ]
     },
     "execution_count": 1,
     "metadata": {},
     "output_type": "execute_result"
    }
   ],
   "source": [
    "import numpy as np\n",
    "np.__version__"
   ]
  },
  {
   "cell_type": "code",
   "execution_count": 2,
   "metadata": {},
   "outputs": [
    {
     "name": "stdout",
     "output_type": "stream",
     "text": [
      "[ 1  2  3  4  5  6  7  8  9 10]\n"
     ]
    }
   ],
   "source": [
    "a=np.array([1,2,3,4,5,6,7,8,9,10])\n",
    "print(a)"
   ]
  },
  {
   "cell_type": "code",
   "execution_count": 7,
   "metadata": {},
   "outputs": [
    {
     "name": "stdout",
     "output_type": "stream",
     "text": [
      "[[ 1  2  3  4  5]\n",
      " [ 6  7  8  9 10]]\n",
      "[[ 1  2  3  4  5]\n",
      " [ 6  7  8  9 10]\n",
      " [11 12 13 14 15]]\n"
     ]
    }
   ],
   "source": [
    "b=np.array([(1,2,3,4,5),(6,7,8,9,10)])\n",
    "print(b)\n",
    "c=np.array([(1,2,3,4,5),(6,7,8,9,10),(11,12,13,14,15)])\n",
    "print(c)"
   ]
  },
  {
   "cell_type": "code",
   "execution_count": 8,
   "metadata": {},
   "outputs": [
    {
     "name": "stdout",
     "output_type": "stream",
     "text": [
      "[ 0  1  2  3  4  5  6  7  8  9 10 11 12 13 14 15 16 17 18 19 20 21 22 23\n",
      " 24 25 26 27 28 29 30 31 32 33 34 35 36 37 38 39 40 41 42 43 44 45 46 47\n",
      " 48 49 50 51 52 53 54 55 56 57 58 59 60 61 62 63 64 65 66 67 68 69 70 71\n",
      " 72 73 74 75 76 77 78 79 80 81 82 83 84 85 86 87 88 89 90 91 92 93 94 95\n",
      " 96 97 98 99]\n"
     ]
    }
   ],
   "source": [
    "x=np.arange(0,100,1) # range of values in array (startval ,endval,step)\n",
    "print(x)"
   ]
  },
  {
   "cell_type": "code",
   "execution_count": 9,
   "metadata": {},
   "outputs": [
    {
     "name": "stdout",
     "output_type": "stream",
     "text": [
      "[ 0.   2.5  5.   7.5 10. ]\n"
     ]
    }
   ],
   "source": [
    "y=np.linspace(0,10,5)#set of values by interval (start,end,no.of values equalInterval)\n",
    "print(y)"
   ]
  },
  {
   "cell_type": "markdown",
   "metadata": {},
   "source": [
    "### Array Properties"
   ]
  },
  {
   "cell_type": "code",
   "execution_count": 19,
   "metadata": {},
   "outputs": [
    {
     "name": "stdout",
     "output_type": "stream",
     "text": [
      "2\n",
      "(2, 6)\n",
      "6\n",
      "[[ 1  2  3  4  5  6]\n",
      " [ 7  8  9 10 11 12]]\n",
      "[[ 1  7]\n",
      " [ 2  8]\n",
      " [ 3  9]\n",
      " [ 4 10]\n",
      " [ 5 11]\n",
      " [ 6 12]]\n",
      "(6, 2)\n"
     ]
    }
   ],
   "source": [
    "p=np.array([5,6,7,8,9,10]) #single dimension\n",
    "q=np.array([(1,2,3,4,5,6),(7,8,9,10,11,12)]) #two dimensions\n",
    "print(q.ndim)# number of dimensions\n",
    "print(q.shape)# shape of array (rows and columns)\n",
    "print(p.size)# total number of elements\n",
    "print(q)\n",
    "print(q.T)# transpose\n",
    "print(q.T.shape)\n"
   ]
  },
  {
   "cell_type": "markdown",
   "metadata": {},
   "source": [
    "### Array reshape"
   ]
  },
  {
   "cell_type": "code",
   "execution_count": 21,
   "metadata": {},
   "outputs": [
    {
     "data": {
      "text/plain": [
       "array([[ 1,  2],\n",
       "       [ 3,  4],\n",
       "       [ 5,  6],\n",
       "       [ 7,  8],\n",
       "       [ 9, 10],\n",
       "       [11, 12]])"
      ]
     },
     "execution_count": 21,
     "metadata": {},
     "output_type": "execute_result"
    }
   ],
   "source": [
    "q=q.reshape(6,2) #(rows,columns,channels)\n",
    "q"
   ]
  },
  {
   "cell_type": "markdown",
   "metadata": {},
   "source": [
    "### Array Slicing"
   ]
  },
  {
   "cell_type": "code",
   "execution_count": 24,
   "metadata": {},
   "outputs": [
    {
     "name": "stdout",
     "output_type": "stream",
     "text": [
      "[[ 1 23 44  5]\n",
      " [ 2  3  4  6]]\n",
      "23\n",
      "[44  4]\n"
     ]
    }
   ],
   "source": [
    "r=np.array([(1,23,44,5),(2,3,4,6)])\n",
    "print(r)\n",
    "print(r[0,1])# splicing rows and columns\n",
    "print(r[0:,2]) # splicing rows and columns"
   ]
  },
  {
   "cell_type": "markdown",
   "metadata": {},
   "source": [
    "### Array Value Operations"
   ]
  },
  {
   "cell_type": "code",
   "execution_count": 25,
   "metadata": {},
   "outputs": [
    {
     "name": "stdout",
     "output_type": "stream",
     "text": [
      "1\n",
      "10\n",
      "5.5\n",
      "2.8722813232690143\n",
      "(10,)\n",
      "10\n",
      "1\n",
      "[1, 2, 3, 4, 5, 6, 7, 8, 9, 10]\n",
      "[[ 1  2]\n",
      " [ 3  4]\n",
      " [ 5  6]\n",
      " [ 7  8]\n",
      " [ 9 10]]\n",
      "[[1, 2], [3, 4], [5, 6], [7, 8], [9, 10]]\n",
      "55\n",
      "5.5\n",
      "2.8722813232690143\n",
      "8.25\n",
      "9\n"
     ]
    }
   ],
   "source": [
    "s=np.array([1,2,3,4,5,6,7,8,9,10])\n",
    "print(s.min())\n",
    "print(s.max())\n",
    "print(s.mean())\n",
    "print(s.std())\n",
    "print(s.shape)\n",
    "print(s.size)\n",
    "print(s.ndim)\n",
    "print(s.tolist())\n",
    "print(s.reshape(5,2))\n",
    "print(s.reshape(5,2).tolist())\n",
    "print(s.reshape(5,2).sum())\n",
    "print(s.reshape(5,2).mean())\n",
    "print(s.reshape(5,2).std())\n",
    "print(s.reshape(5,2).var())\n",
    "print(s.reshape(5,2).argmax())"
   ]
  },
  {
   "cell_type": "markdown",
   "metadata": {},
   "source": [
    "### Array arithmetic operations"
   ]
  },
  {
   "cell_type": "code",
   "execution_count": 26,
   "metadata": {},
   "outputs": [
    {
     "name": "stdout",
     "output_type": "stream",
     "text": [
      "[24 47 59 69]\n",
      "[22 43 53 61]\n",
      "[ 23  90 168 260]\n",
      "[23.         22.5        18.66666667 16.25      ]\n",
      "[      23     2025   175616 17850625]\n",
      "[0 1 2 1]\n",
      "[23 22 18 16]\n"
     ]
    }
   ],
   "source": [
    "m=np.array([23,45,56,65])\n",
    "n=np.array([1,2,3,4])\n",
    "print(m+n)\n",
    "print(m-n)\n",
    "print(m*n)\n",
    "print(m/n)\n",
    "print(m**n)\n",
    "print(m%n)\n",
    "print(m//n)"
   ]
  },
  {
   "cell_type": "code",
   "execution_count": null,
   "metadata": {},
   "outputs": [
    {
     "name": "stdout",
     "output_type": "stream",
     "text": [
      "[10 10 10 10]\n",
      "[10 30]\n"
     ]
    }
   ],
   "source": [
    "m=np.array([23,45,56,65])\n",
    "n=np.array([(1,2,3,4),(9,8,7,6)])\n",
    "print(n.sum(axis=0)) #sum of each row\n",
    "print(n.sum(axis=1)) #sum of each column"
   ]
  },
  {
   "cell_type": "code",
   "execution_count": 31,
   "metadata": {},
   "outputs": [
    {
     "name": "stdout",
     "output_type": "stream",
     "text": [
      "[[ 1  2  3  4]\n",
      " [ 9  8  7  6]\n",
      " [11 12 13 14]\n",
      " [19 18 17 16]]\n",
      "[[ 1  2  3  4 11 12 13 14]\n",
      " [ 9  8  7  6 19 18 17 16]]\n",
      "[[ 1  2  3  4]\n",
      " [ 9  8  7  6]\n",
      " [11 12 13 14]\n",
      " [19 18 17 16]]\n",
      "[1 2 3 4 9 8 7 6]\n"
     ]
    }
   ],
   "source": [
    "n=np.array([(1,2,3,4),(9,8,7,6)])\n",
    "o=np.array([(11,12,13,14),(19,18,17,16)])\n",
    "print(np.vstack((n,o))) # vertical stacking\n",
    "print(np.hstack((n,o))) # horizontal stacking\n",
    "print(np.concatenate((n,o))) # concatenation\n",
    "print(np.ravel(n)) # flattening"
   ]
  }
 ],
 "metadata": {
  "kernelspec": {
   "display_name": "artsci",
   "language": "python",
   "name": "python3"
  },
  "language_info": {
   "codemirror_mode": {
    "name": "ipython",
    "version": 3
   },
   "file_extension": ".py",
   "mimetype": "text/x-python",
   "name": "python",
   "nbconvert_exporter": "python",
   "pygments_lexer": "ipython3",
   "version": "3.9.6"
  }
 },
 "nbformat": 4,
 "nbformat_minor": 2
}
